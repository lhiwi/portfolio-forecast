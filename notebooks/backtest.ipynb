{
 "cells": [
  {
   "cell_type": "markdown",
   "id": "1f650b8a",
   "metadata": {},
   "source": [
    "# Task 5: Strategy Backtesting"
   ]
  }
 ],
 "metadata": {
  "language_info": {
   "name": "python"
  }
 },
 "nbformat": 4,
 "nbformat_minor": 5
}
