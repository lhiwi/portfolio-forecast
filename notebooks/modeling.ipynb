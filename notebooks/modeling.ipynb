{
  "cells": [
    {
      "cell_type": "markdown",
      "id": "e91f494a",
      "metadata": {
        "id": "e91f494a"
      },
      "source": [
        "# Task2: Time Series Forecasting Models"
      ]
    },
    {
      "cell_type": "code",
      "source": [
        "from google.colab import drive\n",
        "drive.mount('/content/drive')"
      ],
      "metadata": {
        "id": "V0fFfmOfG9xV",
        "outputId": "a237c0b7-5848-4160-e5a2-646ab38ea2c3",
        "colab": {
          "base_uri": "https://localhost:8080/"
        }
      },
      "id": "V0fFfmOfG9xV",
      "execution_count": 6,
      "outputs": [
        {
          "output_type": "stream",
          "name": "stdout",
          "text": [
            "Mounted at /content/drive\n"
          ]
        }
      ]
    },
    {
      "cell_type": "code",
      "source": [
        "!pip install -q yfinance pandas_datareader pmdarima"
      ],
      "metadata": {
        "id": "yJ-lq_1FFq5A"
      },
      "id": "yJ-lq_1FFq5A",
      "execution_count": 7,
      "outputs": []
    },
    {
      "cell_type": "code",
      "source": [
        "import pandas as pd\n",
        "import json\n",
        "import os\n",
        "import matplotlib.pyplot as plt\n",
        "import numpy as np\n",
        "import pmdarima as pm\n",
        "import math\n",
        "import  math, time, pathlib\n",
        "from sklearn.metrics import mean_absolute_error, mean_squared_error\n",
        "from sklearn.preprocessing import MinMaxScaler"
      ],
      "metadata": {
        "id": "WSSIRznbIBTf"
      },
      "id": "WSSIRznbIBTf",
      "execution_count": 27,
      "outputs": []
    },
    {
      "cell_type": "markdown",
      "source": [
        "# load saved data (prices/returns/meta)"
      ],
      "metadata": {
        "id": "IDRhrOnsICPf"
      },
      "id": "IDRhrOnsICPf"
    },
    {
      "cell_type": "code",
      "source": [
        "plt.rcParams[\"figure.figsize\"] = (10,4)\n",
        "pd.set_option(\"display.float_format\", lambda x: f\"{x:,.6f}\")\n",
        "\n",
        "# Try common paths: adjust if you saved elsewhere\n",
        "CANDIDATE_DIRS = [\"/content/drive/MyDrive/preprocessed_data\"]\n",
        "def find_file(name):\n",
        "    for d in CANDIDATE_DIRS:\n",
        "        p = os.path.join(d, name)\n",
        "        if os.path.exists(p):\n",
        "            return p\n",
        "    raise FileNotFoundError(f\"Could not find {name} in {CANDIDATE_DIRS}\")\n",
        "\n",
        "prices_path = find_file(\"prices.csv\")\n",
        "returns_path = os.path.join(os.path.dirname(prices_path), \"returns.csv\") if os.path.exists(os.path.join(os.path.dirname(prices_path), \"returns.csv\")) else None\n",
        "meta_path = os.path.join(os.path.dirname(prices_path), \"meta.json\") if os.path.exists(os.path.join(os.path.dirname(prices_path), \"meta.json\")) else None\n",
        "\n",
        "close = pd.read_csv(prices_path, parse_dates=[\"Date\"]).set_index(\"Date\").sort_index()\n",
        "if returns_path:\n",
        "    rets = pd.read_csv(returns_path, parse_dates=[\"Date\"]).set_index(\"Date\").sort_index()\n",
        "else:\n",
        "    rets = np.log(close/close.shift(1)).dropna()\n",
        "\n",
        "meta = {}\n",
        "if meta_path:\n",
        "    with open(meta_path) as f: meta = json.load(f)\n",
        "\n",
        "print(\"Loaded:\")\n",
        "print(\"  prices:\", prices_path)\n",
        "print(\"  returns:\", returns_path or \"(computed)\")\n",
        "print(\"  meta:\", meta_path or \"(none)\")\n",
        "print(\"Window:\", close.index.min().date(), \"→\", close.index.max().date(), \"rows:\", len(close))\n",
        "print(\"Columns:\", list(close.columns))\n",
        "assert \"TSLA\" in close.columns, \"TSLA column not found in prices.csv\"\n",
        "\n",
        "# quick peek\n",
        "display(close.tail())\n"
      ],
      "metadata": {
        "id": "YqR5N8bfH8ce",
        "outputId": "0e473fd5-3c44-407f-ff3b-2eecd0e38d0f",
        "colab": {
          "base_uri": "https://localhost:8080/",
          "height": 341
        }
      },
      "id": "YqR5N8bfH8ce",
      "execution_count": 28,
      "outputs": [
        {
          "output_type": "stream",
          "name": "stdout",
          "text": [
            "Loaded:\n",
            "  prices: /content/drive/MyDrive/preprocessed_data/prices.csv\n",
            "  returns: /content/drive/MyDrive/preprocessed_data/returns.csv\n",
            "  meta: /content/drive/MyDrive/preprocessed_data/meta.json\n",
            "Window: 2015-07-01 → 2025-07-31 rows: 2632\n",
            "Columns: ['BND', 'SPY', 'TSLA']\n"
          ]
        },
        {
          "output_type": "display_data",
          "data": {
            "text/plain": [
              "                 BND        SPY       TSLA\n",
              "Date                                      \n",
              "2025-07-25 73.120000 637.100000 316.060000\n",
              "2025-07-28 73.000000 636.940000 325.590000\n",
              "2025-07-29 73.380000 635.260000 321.200000\n",
              "2025-07-30 73.190000 634.460000 319.040000\n",
              "2025-07-31 73.200000 632.080000 308.270000"
            ],
            "text/html": [
              "\n",
              "  <div id=\"df-01126200-ea21-40c1-aa9d-13f404625e11\" class=\"colab-df-container\">\n",
              "    <div>\n",
              "<style scoped>\n",
              "    .dataframe tbody tr th:only-of-type {\n",
              "        vertical-align: middle;\n",
              "    }\n",
              "\n",
              "    .dataframe tbody tr th {\n",
              "        vertical-align: top;\n",
              "    }\n",
              "\n",
              "    .dataframe thead th {\n",
              "        text-align: right;\n",
              "    }\n",
              "</style>\n",
              "<table border=\"1\" class=\"dataframe\">\n",
              "  <thead>\n",
              "    <tr style=\"text-align: right;\">\n",
              "      <th></th>\n",
              "      <th>BND</th>\n",
              "      <th>SPY</th>\n",
              "      <th>TSLA</th>\n",
              "    </tr>\n",
              "    <tr>\n",
              "      <th>Date</th>\n",
              "      <th></th>\n",
              "      <th></th>\n",
              "      <th></th>\n",
              "    </tr>\n",
              "  </thead>\n",
              "  <tbody>\n",
              "    <tr>\n",
              "      <th>2025-07-25</th>\n",
              "      <td>73.120000</td>\n",
              "      <td>637.100000</td>\n",
              "      <td>316.060000</td>\n",
              "    </tr>\n",
              "    <tr>\n",
              "      <th>2025-07-28</th>\n",
              "      <td>73.000000</td>\n",
              "      <td>636.940000</td>\n",
              "      <td>325.590000</td>\n",
              "    </tr>\n",
              "    <tr>\n",
              "      <th>2025-07-29</th>\n",
              "      <td>73.380000</td>\n",
              "      <td>635.260000</td>\n",
              "      <td>321.200000</td>\n",
              "    </tr>\n",
              "    <tr>\n",
              "      <th>2025-07-30</th>\n",
              "      <td>73.190000</td>\n",
              "      <td>634.460000</td>\n",
              "      <td>319.040000</td>\n",
              "    </tr>\n",
              "    <tr>\n",
              "      <th>2025-07-31</th>\n",
              "      <td>73.200000</td>\n",
              "      <td>632.080000</td>\n",
              "      <td>308.270000</td>\n",
              "    </tr>\n",
              "  </tbody>\n",
              "</table>\n",
              "</div>\n",
              "    <div class=\"colab-df-buttons\">\n",
              "\n",
              "  <div class=\"colab-df-container\">\n",
              "    <button class=\"colab-df-convert\" onclick=\"convertToInteractive('df-01126200-ea21-40c1-aa9d-13f404625e11')\"\n",
              "            title=\"Convert this dataframe to an interactive table.\"\n",
              "            style=\"display:none;\">\n",
              "\n",
              "  <svg xmlns=\"http://www.w3.org/2000/svg\" height=\"24px\" viewBox=\"0 -960 960 960\">\n",
              "    <path d=\"M120-120v-720h720v720H120Zm60-500h600v-160H180v160Zm220 220h160v-160H400v160Zm0 220h160v-160H400v160ZM180-400h160v-160H180v160Zm440 0h160v-160H620v160ZM180-180h160v-160H180v160Zm440 0h160v-160H620v160Z\"/>\n",
              "  </svg>\n",
              "    </button>\n",
              "\n",
              "  <style>\n",
              "    .colab-df-container {\n",
              "      display:flex;\n",
              "      gap: 12px;\n",
              "    }\n",
              "\n",
              "    .colab-df-convert {\n",
              "      background-color: #E8F0FE;\n",
              "      border: none;\n",
              "      border-radius: 50%;\n",
              "      cursor: pointer;\n",
              "      display: none;\n",
              "      fill: #1967D2;\n",
              "      height: 32px;\n",
              "      padding: 0 0 0 0;\n",
              "      width: 32px;\n",
              "    }\n",
              "\n",
              "    .colab-df-convert:hover {\n",
              "      background-color: #E2EBFA;\n",
              "      box-shadow: 0px 1px 2px rgba(60, 64, 67, 0.3), 0px 1px 3px 1px rgba(60, 64, 67, 0.15);\n",
              "      fill: #174EA6;\n",
              "    }\n",
              "\n",
              "    .colab-df-buttons div {\n",
              "      margin-bottom: 4px;\n",
              "    }\n",
              "\n",
              "    [theme=dark] .colab-df-convert {\n",
              "      background-color: #3B4455;\n",
              "      fill: #D2E3FC;\n",
              "    }\n",
              "\n",
              "    [theme=dark] .colab-df-convert:hover {\n",
              "      background-color: #434B5C;\n",
              "      box-shadow: 0px 1px 3px 1px rgba(0, 0, 0, 0.15);\n",
              "      filter: drop-shadow(0px 1px 2px rgba(0, 0, 0, 0.3));\n",
              "      fill: #FFFFFF;\n",
              "    }\n",
              "  </style>\n",
              "\n",
              "    <script>\n",
              "      const buttonEl =\n",
              "        document.querySelector('#df-01126200-ea21-40c1-aa9d-13f404625e11 button.colab-df-convert');\n",
              "      buttonEl.style.display =\n",
              "        google.colab.kernel.accessAllowed ? 'block' : 'none';\n",
              "\n",
              "      async function convertToInteractive(key) {\n",
              "        const element = document.querySelector('#df-01126200-ea21-40c1-aa9d-13f404625e11');\n",
              "        const dataTable =\n",
              "          await google.colab.kernel.invokeFunction('convertToInteractive',\n",
              "                                                    [key], {});\n",
              "        if (!dataTable) return;\n",
              "\n",
              "        const docLinkHtml = 'Like what you see? Visit the ' +\n",
              "          '<a target=\"_blank\" href=https://colab.research.google.com/notebooks/data_table.ipynb>data table notebook</a>'\n",
              "          + ' to learn more about interactive tables.';\n",
              "        element.innerHTML = '';\n",
              "        dataTable['output_type'] = 'display_data';\n",
              "        await google.colab.output.renderOutput(dataTable, element);\n",
              "        const docLink = document.createElement('div');\n",
              "        docLink.innerHTML = docLinkHtml;\n",
              "        element.appendChild(docLink);\n",
              "      }\n",
              "    </script>\n",
              "  </div>\n",
              "\n",
              "\n",
              "    <div id=\"df-7f17845b-38a5-4cce-a596-2f4b877878ed\">\n",
              "      <button class=\"colab-df-quickchart\" onclick=\"quickchart('df-7f17845b-38a5-4cce-a596-2f4b877878ed')\"\n",
              "                title=\"Suggest charts\"\n",
              "                style=\"display:none;\">\n",
              "\n",
              "<svg xmlns=\"http://www.w3.org/2000/svg\" height=\"24px\"viewBox=\"0 0 24 24\"\n",
              "     width=\"24px\">\n",
              "    <g>\n",
              "        <path d=\"M19 3H5c-1.1 0-2 .9-2 2v14c0 1.1.9 2 2 2h14c1.1 0 2-.9 2-2V5c0-1.1-.9-2-2-2zM9 17H7v-7h2v7zm4 0h-2V7h2v10zm4 0h-2v-4h2v4z\"/>\n",
              "    </g>\n",
              "</svg>\n",
              "      </button>\n",
              "\n",
              "<style>\n",
              "  .colab-df-quickchart {\n",
              "      --bg-color: #E8F0FE;\n",
              "      --fill-color: #1967D2;\n",
              "      --hover-bg-color: #E2EBFA;\n",
              "      --hover-fill-color: #174EA6;\n",
              "      --disabled-fill-color: #AAA;\n",
              "      --disabled-bg-color: #DDD;\n",
              "  }\n",
              "\n",
              "  [theme=dark] .colab-df-quickchart {\n",
              "      --bg-color: #3B4455;\n",
              "      --fill-color: #D2E3FC;\n",
              "      --hover-bg-color: #434B5C;\n",
              "      --hover-fill-color: #FFFFFF;\n",
              "      --disabled-bg-color: #3B4455;\n",
              "      --disabled-fill-color: #666;\n",
              "  }\n",
              "\n",
              "  .colab-df-quickchart {\n",
              "    background-color: var(--bg-color);\n",
              "    border: none;\n",
              "    border-radius: 50%;\n",
              "    cursor: pointer;\n",
              "    display: none;\n",
              "    fill: var(--fill-color);\n",
              "    height: 32px;\n",
              "    padding: 0;\n",
              "    width: 32px;\n",
              "  }\n",
              "\n",
              "  .colab-df-quickchart:hover {\n",
              "    background-color: var(--hover-bg-color);\n",
              "    box-shadow: 0 1px 2px rgba(60, 64, 67, 0.3), 0 1px 3px 1px rgba(60, 64, 67, 0.15);\n",
              "    fill: var(--button-hover-fill-color);\n",
              "  }\n",
              "\n",
              "  .colab-df-quickchart-complete:disabled,\n",
              "  .colab-df-quickchart-complete:disabled:hover {\n",
              "    background-color: var(--disabled-bg-color);\n",
              "    fill: var(--disabled-fill-color);\n",
              "    box-shadow: none;\n",
              "  }\n",
              "\n",
              "  .colab-df-spinner {\n",
              "    border: 2px solid var(--fill-color);\n",
              "    border-color: transparent;\n",
              "    border-bottom-color: var(--fill-color);\n",
              "    animation:\n",
              "      spin 1s steps(1) infinite;\n",
              "  }\n",
              "\n",
              "  @keyframes spin {\n",
              "    0% {\n",
              "      border-color: transparent;\n",
              "      border-bottom-color: var(--fill-color);\n",
              "      border-left-color: var(--fill-color);\n",
              "    }\n",
              "    20% {\n",
              "      border-color: transparent;\n",
              "      border-left-color: var(--fill-color);\n",
              "      border-top-color: var(--fill-color);\n",
              "    }\n",
              "    30% {\n",
              "      border-color: transparent;\n",
              "      border-left-color: var(--fill-color);\n",
              "      border-top-color: var(--fill-color);\n",
              "      border-right-color: var(--fill-color);\n",
              "    }\n",
              "    40% {\n",
              "      border-color: transparent;\n",
              "      border-right-color: var(--fill-color);\n",
              "      border-top-color: var(--fill-color);\n",
              "    }\n",
              "    60% {\n",
              "      border-color: transparent;\n",
              "      border-right-color: var(--fill-color);\n",
              "    }\n",
              "    80% {\n",
              "      border-color: transparent;\n",
              "      border-right-color: var(--fill-color);\n",
              "      border-bottom-color: var(--fill-color);\n",
              "    }\n",
              "    90% {\n",
              "      border-color: transparent;\n",
              "      border-bottom-color: var(--fill-color);\n",
              "    }\n",
              "  }\n",
              "</style>\n",
              "\n",
              "      <script>\n",
              "        async function quickchart(key) {\n",
              "          const quickchartButtonEl =\n",
              "            document.querySelector('#' + key + ' button');\n",
              "          quickchartButtonEl.disabled = true;  // To prevent multiple clicks.\n",
              "          quickchartButtonEl.classList.add('colab-df-spinner');\n",
              "          try {\n",
              "            const charts = await google.colab.kernel.invokeFunction(\n",
              "                'suggestCharts', [key], {});\n",
              "          } catch (error) {\n",
              "            console.error('Error during call to suggestCharts:', error);\n",
              "          }\n",
              "          quickchartButtonEl.classList.remove('colab-df-spinner');\n",
              "          quickchartButtonEl.classList.add('colab-df-quickchart-complete');\n",
              "        }\n",
              "        (() => {\n",
              "          let quickchartButtonEl =\n",
              "            document.querySelector('#df-7f17845b-38a5-4cce-a596-2f4b877878ed button');\n",
              "          quickchartButtonEl.style.display =\n",
              "            google.colab.kernel.accessAllowed ? 'block' : 'none';\n",
              "        })();\n",
              "      </script>\n",
              "    </div>\n",
              "\n",
              "    </div>\n",
              "  </div>\n"
            ],
            "application/vnd.google.colaboratory.intrinsic+json": {
              "type": "dataframe",
              "summary": "{\n  \"name\": \"display(close\",\n  \"rows\": 5,\n  \"fields\": [\n    {\n      \"column\": \"Date\",\n      \"properties\": {\n        \"dtype\": \"date\",\n        \"min\": \"2025-07-25 00:00:00\",\n        \"max\": \"2025-07-31 00:00:00\",\n        \"num_unique_values\": 5,\n        \"samples\": [\n          \"2025-07-28 00:00:00\",\n          \"2025-07-31 00:00:00\",\n          \"2025-07-29 00:00:00\"\n        ],\n        \"semantic_type\": \"\",\n        \"description\": \"\"\n      }\n    },\n    {\n      \"column\": \"BND\",\n      \"properties\": {\n        \"dtype\": \"number\",\n        \"std\": 0.13827508813954675,\n        \"min\": 73.0,\n        \"max\": 73.38,\n        \"num_unique_values\": 5,\n        \"samples\": [\n          73.0,\n          73.2,\n          73.38\n        ],\n        \"semantic_type\": \"\",\n        \"description\": \"\"\n      }\n    },\n    {\n      \"column\": \"SPY\",\n      \"properties\": {\n        \"dtype\": \"number\",\n        \"std\": 2.0565796848165143,\n        \"min\": 632.08,\n        \"max\": 637.1,\n        \"num_unique_values\": 5,\n        \"samples\": [\n          636.94,\n          632.08,\n          635.26\n        ],\n        \"semantic_type\": \"\",\n        \"description\": \"\"\n      }\n    },\n    {\n      \"column\": \"TSLA\",\n      \"properties\": {\n        \"dtype\": \"number\",\n        \"std\": 6.468405522228797,\n        \"min\": 308.27,\n        \"max\": 325.59,\n        \"num_unique_values\": 5,\n        \"samples\": [\n          325.59,\n          308.27,\n          321.2\n        ],\n        \"semantic_type\": \"\",\n        \"description\": \"\"\n      }\n    }\n  ]\n}"
            }
          },
          "metadata": {}
        }
      ]
    },
    {
      "cell_type": "markdown",
      "source": [
        "# split train/test (chronological)"
      ],
      "metadata": {
        "id": "JW5cbRMaIuaJ"
      },
      "id": "JW5cbRMaIuaJ"
    },
    {
      "cell_type": "code",
      "source": [
        "SPLIT_DATE = pd.Timestamp(\"2024-01-01\")\n",
        "tsla = close[\"TSLA\"].astype(float)\n",
        "\n",
        "train_y = tsla.loc[tsla.index < SPLIT_DATE]\n",
        "test_y  = tsla.loc[tsla.index >= SPLIT_DATE]\n",
        "\n",
        "print(\"Train:\", train_y.index.min().date(), \"→\", train_y.index.max().date(), \"n=\", len(train_y))\n",
        "print(\"Test :\", test_y.index.min().date(),  \"→\", test_y.index.max().date(),  \"n=\", len(test_y))\n",
        "\n",
        "# sanity\n",
        "assert len(train_y) > 200 and len(test_y) > 30\n"
      ],
      "metadata": {
        "id": "8TWgqr09IyCd",
        "outputId": "458d75f3-4fc2-45b6-9955-7a679eba369e",
        "colab": {
          "base_uri": "https://localhost:8080/"
        }
      },
      "id": "8TWgqr09IyCd",
      "execution_count": 29,
      "outputs": [
        {
          "output_type": "stream",
          "name": "stdout",
          "text": [
            "Train: 2015-07-01 → 2023-12-29 n= 2218\n",
            "Test : 2024-01-01 → 2025-07-31 n= 414\n"
          ]
        }
      ]
    },
    {
      "cell_type": "markdown",
      "source": [
        "# ARIMA baseline (auto_arima on prices)"
      ],
      "metadata": {
        "id": "76tPQSCuJEU7"
      },
      "id": "76tPQSCuJEU7"
    },
    {
      "cell_type": "code",
      "source": [
        "model_arima = pm.auto_arima(\n",
        "    train_y,\n",
        "    seasonal=False, stepwise=True,\n",
        "    suppress_warnings=True, error_action=\"ignore\",\n",
        "    information_criterion=\"aic\", max_p=5, max_q=5, max_d=2\n",
        ")\n",
        "print(model_arima.summary())\n",
        "\n",
        "n_test = len(test_y)\n",
        "fc_arima, conf = model_arima.predict(n_periods=n_test, return_conf_int=True)\n",
        "fc_arima = pd.Series(fc_arima, index=test_y.index)\n",
        "conf = pd.DataFrame(conf, index=test_y.index, columns=[\"lower\",\"upper\"])\n",
        "\n",
        "mae_a  = mean_absolute_error(test_y, fc_arima)\n",
        "rmse_a = math.sqrt(mean_squared_error(test_y, fc_arima))\n",
        "mape_a = (np.abs((test_y - fc_arima)/test_y)).mean()*100\n",
        "print(f\"ARIMA  MAE={mae_a:.3f}  RMSE={rmse_a:.3f}  MAPE={mape_a:.2f}%\")\n",
        "\n",
        "plt.figure()\n",
        "train_y.plot(label=\"train\")\n",
        "test_y.plot(label=\"test\")\n",
        "fc_arima.plot(label=\"arima forecast\")\n",
        "plt.fill_between(conf.index, conf[\"lower\"], conf[\"upper\"], alpha=0.2, label=\"95% CI\")\n",
        "plt.title(\"TSLA — ARIMA forecast vs test\"); plt.legend(); plt.show()\n"
      ],
      "metadata": {
        "id": "0G9tlUZ2I9EP",
        "outputId": "6dd18f2b-7753-4c87-e9a7-86254b82d090",
        "colab": {
          "base_uri": "https://localhost:8080/",
          "height": 879
        }
      },
      "id": "0G9tlUZ2I9EP",
      "execution_count": 30,
      "outputs": [
        {
          "output_type": "stream",
          "name": "stdout",
          "text": [
            "                               SARIMAX Results                                \n",
            "==============================================================================\n",
            "Dep. Variable:                      y   No. Observations:                 2218\n",
            "Model:               SARIMAX(2, 1, 2)   Log Likelihood               -7016.281\n",
            "Date:                Thu, 14 Aug 2025   AIC                          14042.562\n",
            "Time:                        11:23:56   BIC                          14071.081\n",
            "Sample:                    07-01-2015   HQIC                         14052.979\n",
            "                         - 12-29-2023                                         \n",
            "Covariance Type:                  opg                                         \n",
            "==============================================================================\n",
            "                 coef    std err          z      P>|z|      [0.025      0.975]\n",
            "------------------------------------------------------------------------------\n",
            "ar.L1          0.7595      0.012     61.410      0.000       0.735       0.784\n",
            "ar.L2         -0.9211      0.014    -66.958      0.000      -0.948      -0.894\n",
            "ma.L1         -0.7975      0.009    -87.903      0.000      -0.815      -0.780\n",
            "ma.L2          0.9594      0.010    100.168      0.000       0.941       0.978\n",
            "sigma2        32.8354      0.393     83.577      0.000      32.065      33.605\n",
            "===================================================================================\n",
            "Ljung-Box (L1) (Q):                   0.01   Jarque-Bera (JB):             11471.40\n",
            "Prob(Q):                              0.94   Prob(JB):                         0.00\n",
            "Heteroskedasticity (H):             430.70   Skew:                            -0.13\n",
            "Prob(H) (two-sided):                  0.00   Kurtosis:                        14.14\n",
            "===================================================================================\n",
            "\n",
            "Warnings:\n",
            "[1] Covariance matrix calculated using the outer product of gradients (complex-step).\n",
            "ARIMA  MAE=63.734  RMSE=78.869  MAPE=24.22%\n"
          ]
        },
        {
          "output_type": "display_data",
          "data": {
            "text/plain": [
              "<Figure size 1000x400 with 1 Axes>"
            ],
            "image/png": "[encoded data removed]"
          },
          "metadata": {}
        }
      ]
    },
    {
      "cell_type": "markdown",
      "source": [
        "# LSTM setup: pick backend (TensorFlow if available, else PyTorch)"
      ],
      "metadata": {
        "id": "oFKRn3aHJnVt"
      },
      "id": "oFKRn3aHJnVt"
    },
    {
      "cell_type": "code",
      "source": [
        "BACKEND = None\n",
        "try:\n",
        "    import tensorflow as tf\n",
        "    from tensorflow import keras\n",
        "    BACKEND = \"tf\"\n",
        "    print(\"Using TensorFlow:\", tf.__version__)\n",
        "except Exception:\n",
        "    try:\n",
        "        import torch\n",
        "        import torch.nn as nn\n",
        "        BACKEND = \"torch\"\n",
        "        print(\"Using PyTorch:\", torch.__version__)\n",
        "    except Exception:\n",
        "        BACKEND = None\n",
        "        print(\"No TF or Torch detected; LSTM will be skipped.\")\n"
      ],
      "metadata": {
        "id": "IdC9HuDGJh6B",
        "outputId": "bbf4b305-b890-433c-a732-6bdbde9c8a7f",
        "colab": {
          "base_uri": "https://localhost:8080/"
        }
      },
      "id": "IdC9HuDGJh6B",
      "execution_count": 22,
      "outputs": [
        {
          "output_type": "stream",
          "name": "stdout",
          "text": [
            "Using TensorFlow: 2.16.1\n"
          ]
        }
      ]
    },
    {
      "cell_type": "markdown",
      "source": [
        "LSTM data prep (scaling + sliding windows)"
      ],
      "metadata": {
        "id": "ueIL9aXKQRqh"
      },
      "id": "ueIL9aXKQRqh"
    },
    {
      "cell_type": "code",
      "source": [
        "# LSTM expects scaled inputs and sequence windows.\n",
        "def make_windows(arr, lookback=60):\n",
        "    X, y = [], []\n",
        "    for i in range(lookback, len(arr)):\n",
        "        X.append(arr[i-lookback:i, 0]); y.append(arr[i, 0])\n",
        "    return np.array(X)[...,None].astype(\"float32\"), np.array(y).astype(\"float32\")\n",
        "\n",
        "LOOKBACK = 60\n",
        "scaler = MinMaxScaler()\n",
        "\n",
        "train_scaled = scaler.fit_transform(train_y.values.reshape(-1,1))\n",
        "test_scaled  = scaler.transform(test_y.values.reshape(-1,1))\n",
        "\n",
        "Xtr, ytr = make_windows(train_scaled, LOOKBACK)\n",
        "\n",
        "# For test windows, prepend last LOOKBACK points from train so window continuity is preserved\n",
        "Xte_full, yte_full = make_windows(np.vstack([train_scaled[-LOOKBACK:], test_scaled]), LOOKBACK)\n",
        "\n",
        "print(\"Shapes → Xtr:\", Xtr.shape, \"ytr:\", ytr.shape, \"Xte_full:\", Xte_full.shape, \"yte_full:\", yte_full.shape)\n"
      ],
      "metadata": {
        "id": "2GA3-CJuRk85",
        "outputId": "278077fa-d555-4d96-f232-383c2547560b",
        "colab": {
          "base_uri": "https://localhost:8080/"
        }
      },
      "id": "2GA3-CJuRk85",
      "execution_count": 23,
      "outputs": [
        {
          "output_type": "stream",
          "name": "stdout",
          "text": [
            "Shapes → Xtr: (2158, 60, 1) ytr: (2158,) Xte_full: (414, 60, 1) yte_full: (414,)\n"
          ]
        }
      ]
    },
    {
      "cell_type": "markdown",
      "source": [
        "# LSTM (TensorFlow path)"
      ],
      "metadata": {
        "id": "WcNfk44CRaey"
      },
      "id": "WcNfk44CRaey"
    },
    {
      "cell_type": "code",
      "source": [
        "# A small, stable LSTM: two layers + dropout, trained with MSE.\n",
        "if BACKEND == \"tf\":\n",
        "    from tensorflow import keras\n",
        "\n",
        "    model = keras.Sequential([\n",
        "        keras.layers.Input(shape=(LOOKBACK,1)),\n",
        "        keras.layers.LSTM(64, return_sequences=True),\n",
        "        keras.layers.Dropout(0.2),\n",
        "        keras.layers.LSTM(32),\n",
        "        keras.layers.Dense(1)\n",
        "    ])\n",
        "    model.compile(optimizer=\"adam\", loss=\"mse\")\n",
        "    _ = model.fit(Xtr, ytr, epochs=15, batch_size=64, verbose=0)\n",
        "\n",
        "    # Predict for the combined test windows, then align to test index\n",
        "    pred_scaled = model.predict(Xte_full, verbose=0).reshape(-1,1)\n",
        "    pred = scaler.inverse_transform(pred_scaled).ravel()\n",
        "    fc_lstm = pd.Series(pred[-len(test_y):], index=test_y.index)\n",
        "\n",
        "    # Metrics\n",
        "    mae_l  = mean_absolute_error(test_y, fc_lstm)\n",
        "    rmse_l = math.sqrt(mean_squared_error(test_y, fc_lstm))\n",
        "    mape_l = (np.abs((test_y - fc_lstm)/test_y)).mean()*100\n",
        "    print(f\"LSTM (TF)  MAE={mae_l:.3f}  RMSE={rmse_l:.3f}  MAPE={mape_l:.2f}%\")\n",
        "\n",
        "    # Plot\n",
        "    plt.figure()\n",
        "    train_y.plot(label=\"train\")\n",
        "    test_y.plot(label=\"test\")\n",
        "    fc_lstm.plot(label=\"lstm (tf) forecast\")\n",
        "    plt.title(\"TSLA — LSTM (TF) forecast vs test\")\n",
        "    plt.legend(); plt.show()\n"
      ],
      "metadata": {
        "id": "7ulvDD2URcai",
        "outputId": "04c1b151-4afe-4dc0-fea7-49353b154032",
        "colab": {
          "base_uri": "https://localhost:8080/",
          "height": 427
        }
      },
      "id": "7ulvDD2URcai",
      "execution_count": 24,
      "outputs": [
        {
          "output_type": "stream",
          "name": "stdout",
          "text": [
            "LSTM (TF)  MAE=14.586  RMSE=20.052  MAPE=5.42%\n"
          ]
        },
        {
          "output_type": "display_data",
          "data": {
            "text/plain": [
              "<Figure size 1000x400 with 1 Axes>"
            ],
            "image/png": "[encoded data removed]"
          },
          "metadata": {}
        }
      ]
    },
    {
      "cell_type": "markdown",
      "source": [
        "# comparing & selecting model for Task 3"
      ],
      "metadata": {
        "id": "XfNsukqVK02t"
      },
      "id": "XfNsukqVK02t"
    },
    {
      "cell_type": "code",
      "source": [
        "def safe(x):\n",
        "    try: return float(x)\n",
        "    except: return np.nan\n",
        "\n",
        "print(\"== Model comparison (lower is better) ==\")\n",
        "print(f\"ARIMA: MAE={mae_a:.3f}, RMSE={rmse_a:.3f}, MAPE={mape_a:.2f}%\")\n",
        "\n",
        "if 'mae_l' in globals():\n",
        "    print(f\"LSTM : MAE={mae_l:.3f}, RMSE={rmse_l:.3f}, MAPE={mape_l:.2f}%\")\n",
        "    choice = \"ARIMA\" if safe(rmse_a) <= safe(rmse_l) else \"LSTM\"\n",
        "else:\n",
        "    print(\"LSTM : (skipped — backend not available)\")\n",
        "    choice = \"ARIMA\"\n",
        "\n",
        "print(f\"\\nChosen for Task 3 forecasts: {choice}\")\n"
      ],
      "metadata": {
        "id": "RqMQ_6yRKxjd",
        "outputId": "f57a7acb-d109-45c1-98ea-5c9bc801b46a",
        "colab": {
          "base_uri": "https://localhost:8080/"
        }
      },
      "id": "RqMQ_6yRKxjd",
      "execution_count": 17,
      "outputs": [
        {
          "output_type": "stream",
          "name": "stdout",
          "text": [
            "== Model comparison (lower is better) ==\n",
            "ARIMA: MAE=63.734, RMSE=78.869, MAPE=24.22%\n",
            "LSTM : MAE=15.132, RMSE=19.305, MAPE=5.99%\n",
            "\n",
            "Chosen for Task 3 forecasts: LSTM\n"
          ]
        }
      ]
    },
    {
      "cell_type": "markdown",
      "source": [
        "# Save summary + ARIMA + (TF LSTM + scaler) for Task 3"
      ],
      "metadata": {
        "id": "2qjZPe0jLkFB"
      },
      "id": "2qjZPe0jLkFB"
    },
    {
      "cell_type": "code",
      "source": [
        "import os, json, pickle\n",
        "os.makedirs(\"models\", exist_ok=True)\n",
        "\n",
        "# Summary / provenance\n",
        "artifact = {\n",
        "    \"chosen_model\": str(choice),                  # \"LSTM\" or \"ARIMA\"\n",
        "    \"split_date\": str(SPLIT_DATE.date()),\n",
        "    \"metrics\": {\n",
        "        \"arima\": {\"MAE\": float(mae_a), \"RMSE\": float(rmse_a), \"MAPE\": float(mape_a)},\n",
        "        \"lstm\": (\n",
        "            {\"MAE\": float(mae_l), \"RMSE\": float(rmse_l), \"MAPE\": float(mape_l),\n",
        "             \"backend\": BACKEND, \"lookback\": int(LOOKBACK) if 'LOOKBACK' in globals() else None}\n",
        "            if 'mae_l' in globals() else None\n",
        "        ),\n",
        "    },\n",
        "    \"provenance\": meta if 'meta' in globals() else {},\n",
        "}\n",
        "with open(\"models/summary.json\", \"w\") as f:\n",
        "    json.dump(artifact, f, indent=2)\n",
        "print(\" Wrote models/summary.json\")\n",
        "\n",
        "#  ARIMA model\n",
        "with open(\"models/tsla_arima.pkl\", \"wb\") as f:\n",
        "    pickle.dump(model_arima, f)\n",
        "print(\" Wrote models/tsla_arima.pkl\")\n",
        "\n",
        "#  LSTM (TensorFlow) + scaler\n",
        "if 'BACKEND' in globals() and BACKEND == 'tf' and 'mae_l' in globals():\n",
        "    # Save scaler (needed to invert to price space)\n",
        "    with open(\"models/tsla_scaler.pkl\", \"wb\") as f:\n",
        "        pickle.dump(scaler, f)\n",
        "    print(\" Wrote models/tsla_scaler.pkl\")\n",
        "\n",
        "    # Prefer the new Keras format file; if not allowed, export SavedModel directory\n",
        "    keras_path = \"models/tsla_lstm_tf.keras\"\n",
        "    try:\n",
        "        model.save(keras_path)          # Keras 3/TF 2.16+ recommended format\n",
        "        print(f\" Wrote {keras_path}\")\n",
        "    except ValueError:\n",
        "        # Fallback: export a SavedModel directory (e.g., for TF Serving/TFLite)\n",
        "        model.export(\"models/tsla_lstm_tf\")  # directory\n",
        "        print(\" Exported models/tsla_lstm_tf (SavedModel directory)\")\n",
        "else:\n",
        "    print(\" Skipped saving TF LSTM artifacts (TF backend not active or LSTM not run).\")\n"
      ],
      "metadata": {
        "id": "EwVc4rOeUxAG",
        "outputId": "cd6074bf-a88a-499f-bf77-39d5902dfe2e",
        "colab": {
          "base_uri": "https://localhost:8080/"
        }
      },
      "id": "EwVc4rOeUxAG",
      "execution_count": 34,
      "outputs": [
        {
          "output_type": "stream",
          "name": "stdout",
          "text": [
            " Wrote models/summary.json\n",
            " Wrote models/tsla_arima.pkl\n",
            " Wrote models/tsla_scaler.pkl\n",
            " Wrote models/tsla_lstm_tf.keras\n"
          ]
        }
      ]
    }
  ],
  "metadata": {
    "language_info": {
      "name": "python"
    },
    "colab": {
      "provenance": []
    },
    "kernelspec": {
      "name": "python3",
      "display_name": "Python 3"
    }
  },
  "nbformat": 4,
  "nbformat_minor": 5
}