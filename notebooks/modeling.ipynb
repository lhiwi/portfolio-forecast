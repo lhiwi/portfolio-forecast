{
  "cells": [
    {
      "cell_type": "markdown",
      "id": "e91f494a",
      "metadata": {},
      "source": [
        "# Task2: Time Series Forecasting Models"
      ]
    },
    {
      "cell_type": "markdown",
      "id": "4bd16691",
      "metadata": {},
      "source": []
    }
  ],
  "metadata": {
    "language_info": {
      "name": "python"
    }
  },
  "nbformat": 4,
  "nbformat_minor": 5
}
