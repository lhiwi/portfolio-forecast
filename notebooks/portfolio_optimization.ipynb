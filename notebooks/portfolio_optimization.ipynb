{
 "cells": [
  {
   "cell_type": "markdown",
   "id": "b187b588",
   "metadata": {},
   "source": [
    "# Task 4: Optimize Portfolio Based on Forecast\n"
   ]
  }
 ],
 "metadata": {
  "language_info": {
   "name": "python"
  }
 },
 "nbformat": 4,
 "nbformat_minor": 5
}
